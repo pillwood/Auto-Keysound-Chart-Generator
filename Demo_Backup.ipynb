{
 "cells": [
  {
   "cell_type": "code",
   "execution_count": 1,
   "id": "587d3b6b-d463-4a4c-8ccd-82e545246df1",
   "metadata": {},
   "outputs": [],
   "source": [
    "import os\n",
    "import re\n",
    "import librosa\n",
    "import soundfile as sf\n",
    "import numpy as np"
   ]
  },
  {
   "cell_type": "code",
   "execution_count": 8,
   "id": "ddacef94-96e1-4a2c-bb01-9f2ef809adda",
   "metadata": {},
   "outputs": [],
   "source": [
    "# --- 설정: 경로 지정 ---\n",
    "wav_paths = [\n",
    "    \"unwelcomeSchool/vocals.wav\",\n",
    "    \"unwelcomeSchool/bass.wav\",\n",
    "    \"unwelcomeSchool/drums.wav\",\n",
    "    \"unwelcomeSchool/other.wav\"\n",
    "]\n",
    "osu_input = \"UnwelcomeSchool_Hard.txt\"\n",
    "osu_output = \"UnwelcomeSchool_Hard_modified.osu\"\n",
    "output_dir = os.path.join(os.path.dirname(osu_output), \"splited_notes\")\n",
    "os.makedirs(output_dir, exist_ok=True)"
   ]
  },
  {
   "cell_type": "code",
   "execution_count": 9,
   "id": "1f49737e-3f2d-4f03-b80e-d34febbb4b46",
   "metadata": {},
   "outputs": [],
   "source": [
    "# 증폭할 트랙 인덱스와 증폭 비율 (예: drums(2), other(3)만 증폭)\n",
    "amplify_indices = [3]\n",
    "amplify_factor = 1.5\n",
    "\n",
    "# 페이드 인/아웃 길이 (ms)\n",
    "fade_ms = 10\n",
    "# --- 1) WAV 파일 로드 및 증폭 적용 ---\n",
    "waves = []\n",
    "sr = None\n",
    "for idx, p in enumerate(wav_paths):\n",
    "    y, sr_tmp = librosa.load(p, sr=None)\n",
    "    if sr is None:\n",
    "        sr = sr_tmp\n",
    "    elif sr != sr_tmp:\n",
    "        raise ValueError(\"WAV 파일 간 샘플링 레이트 불일치\")\n",
    "    # 전체 파일에 대해 증폭\n",
    "    if idx in amplify_indices:\n",
    "        y = np.clip(y * amplify_factor, -1.0, 1.0)\n",
    "    waves.append(y)"
   ]
  },
  {
   "cell_type": "code",
   "execution_count": null,
   "id": "c8883353-abed-4613-8039-d1d5c5109da5",
   "metadata": {},
   "outputs": [],
   "source": [
    "# --- 2) osu 파일 파싱 ---\n",
    "with open(osu_input, 'r', encoding='utf-8') as f:\n",
    "    osu_text = f.read()"
   ]
  },
  {
   "cell_type": "code",
   "execution_count": null,
   "id": "2c262baf-05fd-4e2a-9972-23a88a205f62",
   "metadata": {},
   "outputs": [],
   "source": [
    "# Events 및 HitObjects 파싱\n",
    "events_match = re.search(r\"\\[Events\\](.*?)(?=\\n\\[|$)\", osu_text, re.S)\n",
    "hit_match = re.search(r\"\\[HitObjects\\](.*)$\", osu_text, re.S)\n",
    "hit_lines = []\n",
    "if hit_match:\n",
    "    hit_lines = [l for l in hit_match.group(1).strip().splitlines() if l.strip()]\n",
    "else:\n",
    "    raise ValueError(\"[HitObjects] 섹션을 찾을 수 없습니다.\")"
   ]
  },
  {
   "cell_type": "code",
   "execution_count": null,
   "id": "79b04f85-37c5-470b-b4f9-f2d4e3bb9d89",
   "metadata": {},
   "outputs": [],
   "source": [
    "# --- 3) 페이드 윈도우 생성 ---\n",
    "fade_len = int(sr * fade_ms / 1000)\n",
    "ramp = np.linspace(0, 1, fade_len)"
   ]
  },
  {
   "cell_type": "code",
   "execution_count": null,
   "id": "0c8abe9d-573a-4e73-9240-8ebd704367f3",
   "metadata": {},
   "outputs": [],
   "source": [
    "# --- 4) 클립 추출 및 노트 적용 ---\n",
    "clip_ms = 100\n",
    "clip_len = int(sr * clip_ms / 1000)\n",
    "# silent_tracks: 원본 복사본 -> 클립 구간만 무음 및 페이드 처리\n",
    "silent_tracks = [w.copy() for w in waves]\n",
    "\n",
    "new_events = []\n",
    "new_hit_lines = []\n",
    "cnt = 1"
   ]
  },
  {
   "cell_type": "code",
   "execution_count": null,
   "id": "36e2da71-7098-4d10-a73a-99eae25644eb",
   "metadata": {},
   "outputs": [],
   "source": [
    "for line in hit_lines:\n",
    "    parts = line.split(',')\n",
    "    time_ms = int(parts[2])\n",
    "    tail = parts[-1]\n",
    "    effects, filename = (tail.rsplit(':', 1) if ':' in tail else (tail, ''))\n",
    "\n",
    "    start = int(sr * time_ms / 1000)\n",
    "    end = min(start + clip_len, len(waves[0]))\n",
    "\n",
    "    # 에너지 비교\n",
    "    energies = [np.sum(w[start:end]**2) for w in waves]\n",
    "    idx = int(np.argmax(energies))\n",
    "\n",
    "    # 클립 추출\n",
    "    clip = waves[idx][start:end].copy()\n",
    "    # 페이드 인/아웃 적용\n",
    "    if len(clip) > 2 * fade_len:\n",
    "        clip[:fade_len] *= ramp\n",
    "        clip[-fade_len:] *= ramp[::-1]\n",
    "    else:\n",
    "        # 짧을 경우 전체에 램프 적용\n",
    "        clip *= np.linspace(0, 1, len(clip))\n",
    "\n",
    "    # silent_tracks에서 페이드 아웃 처리 후 0 대체\n",
    "    seg = silent_tracks[idx][start:end].copy()\n",
    "    if len(seg) > 2 * fade_len:\n",
    "        seg[:fade_len] *= 1 - ramp\n",
    "        seg[-fade_len:] *= 1 - ramp[::-1]\n",
    "    silent_tracks[idx][start:end] = 0\n",
    "\n",
    "    # 클립 저장\n",
    "    clip_name = f\"note_{idx+1}_{cnt}.wav\"\n",
    "    sf.write(os.path.join(output_dir, clip_name), clip, sr)\n",
    "\n",
    "    # HitObjects 업데이트\n",
    "    parts[-1] = f\"{effects}:{clip_name}\"\n",
    "    new_hit_lines.append(','.join(parts))\n",
    "\n",
    "    # Events 업데이트\n",
    "    new_events.append(f\"Sample,{time_ms},0,\\\"{clip_name}\\\",50\")\n",
    "    cnt += 1"
   ]
  },
  {
   "cell_type": "code",
   "execution_count": null,
   "id": "782baa84-3f12-4724-bf49-3fc96d015d01",
   "metadata": {},
   "outputs": [],
   "source": [
    "# --- 5) accompaniment 생성 ---\n",
    "accompaniment = np.zeros_like(waves[0])\n",
    "for tr in silent_tracks:\n",
    "    accompaniment += tr\n",
    "sf.write(os.path.join(output_dir, \"accompaniment.wav\"), accompaniment, sr)"
   ]
  },
  {
   "cell_type": "code",
   "execution_count": null,
   "id": "b71ba7bc-e120-4ab1-8c1a-dfcc8d1777ea",
   "metadata": {},
   "outputs": [],
   "source": [
    "# --- 6) 수정된 osu 파일 작성 ---\n",
    "header = osu_text[:events_match.start()]\n",
    "between = osu_text[events_match.end():hit_match.start()]\n",
    "footer = osu_text[hit_match.end():]\n",
    "\n",
    "with open(osu_output, 'w', encoding='utf-8') as f:\n",
    "    f.write(header)\n",
    "    f.write(\"[Events]\\n\")\n",
    "    for ev in new_events:\n",
    "        f.write(ev + \"\\n\")\n",
    "    f.write(\"\\n\" + between)\n",
    "    f.write(\"[HitObjects]\\n\")\n",
    "    for hl in new_hit_lines:\n",
    "        f.write(hl + \"\\n\")\n",
    "    f.write(footer)\n",
    "\n",
    "print(f\"완료: 추출, 증폭, 페이드 처리 및 accompaniment 생성 완료. 파일 위치: {output_dir}\")\n"
   ]
  },
  {
   "cell_type": "code",
   "execution_count": null,
   "id": "84f0cce2-cfa3-4b86-8ab6-79b6c8cde9fc",
   "metadata": {},
   "outputs": [],
   "source": []
  },
  {
   "cell_type": "code",
   "execution_count": null,
   "id": "3013b0e9-7091-4d5e-9b09-739f4cf54213",
   "metadata": {},
   "outputs": [],
   "source": []
  },
  {
   "cell_type": "code",
   "execution_count": null,
   "id": "b5abf5ca-715f-4fb7-84fe-96787f74c72f",
   "metadata": {},
   "outputs": [],
   "source": []
  },
  {
   "cell_type": "code",
   "execution_count": null,
   "id": "8803e821-7ff4-4973-9b51-a3a335138496",
   "metadata": {},
   "outputs": [],
   "source": []
  },
  {
   "cell_type": "code",
   "execution_count": null,
   "id": "d5aaf52e-89ff-42bd-8ea9-6cceadd21b4a",
   "metadata": {},
   "outputs": [],
   "source": []
  }
 ],
 "metadata": {
  "kernelspec": {
   "display_name": "Python 3 (ipykernel)",
   "language": "python",
   "name": "python3"
  },
  "language_info": {
   "codemirror_mode": {
    "name": "ipython",
    "version": 3
   },
   "file_extension": ".py",
   "mimetype": "text/x-python",
   "name": "python",
   "nbconvert_exporter": "python",
   "pygments_lexer": "ipython3",
   "version": "3.12.3"
  }
 },
 "nbformat": 4,
 "nbformat_minor": 5
}
