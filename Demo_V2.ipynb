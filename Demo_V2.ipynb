{
 "cells": [
  {
   "cell_type": "code",
   "execution_count": 11,
   "id": "587d3b6b-d463-4a4c-8ccd-82e545246df1",
   "metadata": {},
   "outputs": [],
   "source": [
    "import os\n",
    "import re\n",
    "import librosa\n",
    "import soundfile as sf\n",
    "import numpy as np\n",
    "from tqdm import tqdm"
   ]
  },
  {
   "cell_type": "code",
   "execution_count": 2,
   "id": "ddacef94-96e1-4a2c-bb01-9f2ef809adda",
   "metadata": {},
   "outputs": [],
   "source": [
    "# --- 설정: 경로 지정 ---\n",
    "wav_paths = [\n",
    "    \"unwelcomeSchool/vocals.wav\",\n",
    "    \"unwelcomeSchool/bass.wav\",\n",
    "    \"unwelcomeSchool/drums.wav\",\n",
    "    \"unwelcomeSchool/other.wav\"\n",
    "]\n",
    "\n",
    "\n",
    "osu_input = \"UnwelcomeSchool_Hard.txt\"\n",
    "osu_output = \"UnwelcomeSchool_Hard.osu\"\n",
    "output_dir = os.path.join(os.path.dirname(osu_output), \"splited_notes\")\n",
    "os.makedirs(output_dir, exist_ok=True)"
   ]
  },
  {
   "cell_type": "code",
   "execution_count": null,
   "id": "c5a55f2c-a8c8-4601-8508-b9bbd41d4d3c",
   "metadata": {},
   "outputs": [],
   "source": [
    "def smooth_assignments(assignments, window=2):\n",
    "    \"\"\"\n",
    "    assignments: [int] 노트별 dominant wav 인덱스 리스트 (예: [3,3,3,2,3,3])\n",
    "    window: 좌우 몇 개 노트를 참고할지\n",
    "    \n",
    "    리턴값: 스무딩된 assignments 리스트\n",
    "    \"\"\"\n",
    "    n = len(assignments)\n",
    "    smoothed = assignments.copy()\n",
    "    \n",
    "    for i in range(n):\n",
    "        # 좌우 window 범위 내 인덱스들 수집\n",
    "        start = max(0, i - window)\n",
    "        end = min(n, i + window + 1)\n",
    "        window_vals = assignments[start:end]\n",
    "        \n",
    "        # 가장 많은 값으로 대체 (다수결)\n",
    "        from collections import Counter\n",
    "        c = Counter(window_vals)\n",
    "        most_common = c.most_common(1)[0][0]\n",
    "        \n",
    "        smoothed[i] = most_common\n",
    "    \n",
    "    return smoothed"
   ]
  },
  {
   "cell_type": "code",
   "execution_count": 3,
   "id": "c2bfc45d-74a7-4672-8989-0617f46c658a",
   "metadata": {},
   "outputs": [],
   "source": [
    "# 증폭할 트랙 인덱스와 증폭 비율 (예: other(3)만 증폭)\n",
    "amplify_indices = [3]\n",
    "amplify_factor = 1.5\n",
    "\n",
    "# 전역 클립 길이 (ms) 및 페이드 인/아웃 길이 (ms)\n",
    "default_clip_ms = 333\n",
    "fade_ms = 10\n",
    "\n",
    "# --- 1) WAV 파일 로드 및 증폭 적용 ---\n",
    "waves = []\n",
    "sr = None\n",
    "for idx, p in enumerate(wav_paths):\n",
    "    y, sr_tmp = librosa.load(p, sr=None)\n",
    "    if sr is None:\n",
    "        sr = sr_tmp\n",
    "    elif sr != sr_tmp:\n",
    "        raise ValueError(\"WAV 파일 간 샘플링 레이트 불일치\")\n",
    "    if idx in amplify_indices:\n",
    "        y = np.clip(y * amplify_factor, -1.0, 1.0)\n",
    "    waves.append(y)"
   ]
  },
  {
   "cell_type": "code",
   "execution_count": 4,
   "id": "60ee86c0-d2cd-43bd-868d-464961aaa59f",
   "metadata": {},
   "outputs": [],
   "source": [
    "# --- 2) osu 파일 파싱 ---\n",
    "with open(osu_input, 'r', encoding='utf-8') as f:\n",
    "    osu_text = f.read()"
   ]
  },
  {
   "cell_type": "code",
   "execution_count": 5,
   "id": "1f49737e-3f2d-4f03-b80e-d34febbb4b46",
   "metadata": {},
   "outputs": [],
   "source": [
    "# HitObjects 타이밍 리스트 구성\n",
    "hit_match = re.search(r\"\\[HitObjects\\](.*)$\", osu_text, re.S)\n",
    "if not hit_match:\n",
    "    raise ValueError(\"[HitObjects] 섹션을 찾을 수 없습니다.\")\n",
    "hit_lines = [l for l in hit_match.group(1).strip().splitlines() if l.strip()]\n",
    "times_ms = [int(line.split(',')[2]) for line in hit_lines]\n",
    "\n",
    "# Events 영역 위치 캡처\n",
    "events_match = re.search(r\"\\[Events\\](.*?)(?=\\n\\[|$)\", osu_text, re.S)"
   ]
  },
  {
   "cell_type": "code",
   "execution_count": 6,
   "id": "7f2f62e8-4c91-4bb9-abad-6750ec589677",
   "metadata": {},
   "outputs": [],
   "source": [
    "# --- 3) 페이드 윈도우 생성 ---\n",
    "fade_len = int(sr * fade_ms / 1000)\n",
    "ramp = np.linspace(0, 1, fade_len)"
   ]
  },
  {
   "cell_type": "code",
   "execution_count": 7,
   "id": "d5546ad6-b3f8-42bc-9857-014133a75b4d",
   "metadata": {},
   "outputs": [],
   "source": [
    "# --- 4) 클립 추출 및 노트 적용 ---\n",
    "silent_tracks = [w.copy() for w in waves]\n",
    "new_events, new_hit_lines = [], []\n",
    "counter = 1\n"
   ]
  },
  {
   "cell_type": "code",
   "execution_count": 12,
   "id": "51c75fb7-b173-4a4d-95fd-9d616ef42d84",
   "metadata": {},
   "outputs": [
    {
     "name": "stderr",
     "output_type": "stream",
     "text": [
      "Generating clips: 100%|███████████████████████████████████████████████████████████| 1338/1338 [00:04<00:00, 325.22it/s]\n"
     ]
    }
   ],
   "source": [
    "for i, line in tqdm(enumerate(hit_lines), total=len(hit_lines), desc=\"Generating clips\"):\n",
    "    parts = line.split(',')\n",
    "    time_ms = times_ms[i]\n",
    "    # 다음 노트 간격에 맞춰 클립 길이 제한\n",
    "    if i < len(times_ms) - 1:\n",
    "        next_ms = times_ms[i+1]\n",
    "        clip_ms = min(default_clip_ms, next_ms - time_ms)\n",
    "    else:\n",
    "        clip_ms = default_clip_ms\n",
    "    clip_len = int(sr * clip_ms / 1000)\n",
    "\n",
    "    tail = parts[-1]\n",
    "    effects, filename = (tail.rsplit(':', 1) if ':' in tail else (tail, ''))\n",
    "\n",
    "    start = int(sr * time_ms / 1000)\n",
    "    end = min(start + clip_len, len(waves[0]))\n",
    "\n",
    "    # 에너지 비교 및 dominant 트랙 선택\n",
    "    energies = [np.sum(w[start:end]**2) for w in waves]\n",
    "    idx = int(np.argmax(energies))\n",
    "\n",
    "    # 클립 추출\n",
    "    clip = waves[idx][start:end].copy()\n",
    "    # 페이드 인/아웃 적용\n",
    "    if len(clip) > 2 * fade_len:\n",
    "        clip[:fade_len] *= ramp\n",
    "        clip[-fade_len:] *= ramp[::-1]\n",
    "    else:\n",
    "        clip *= np.linspace(0, 1, len(clip))\n",
    "\n",
    "    # 무음 처리 적용 (역페이드)\n",
    "    seg = silent_tracks[idx][start:end]\n",
    "    if len(seg) > 2 * fade_len:\n",
    "        seg[:fade_len] *= (1 - ramp)\n",
    "        seg[-fade_len:] *= (1 - ramp[::-1])\n",
    "    silent_tracks[idx][start:end] = 0\n",
    "\n",
    "    # 클립 저장\n",
    "    clip_name = f\"note_{idx+1}_{counter}.wav\"\n",
    "    sf.write(os.path.join(output_dir, clip_name), clip, sr)\n",
    "\n",
    "    # HitObjects 및 Events 업데이트\n",
    "    parts[-1] = f\"{effects}:{clip_name}\"\n",
    "    new_hit_lines.append(','.join(parts))\n",
    "    new_events.append(f\"Sample,{time_ms},0,\\\"{clip_name}\\\",50\")\n",
    "    counter += 1"
   ]
  },
  {
   "cell_type": "code",
   "execution_count": 9,
   "id": "01e9352a-326d-4152-94ab-eea4998bb0be",
   "metadata": {},
   "outputs": [],
   "source": [
    "# --- 5) accompaniment 생성 ---\n",
    "accompaniment = np.zeros_like(waves[0])\n",
    "for tr in silent_tracks:\n",
    "    accompaniment += tr\n",
    "sf.write(os.path.join(output_dir, \"accompaniment.wav\"), accompaniment, sr)\n"
   ]
  },
  {
   "cell_type": "code",
   "execution_count": 10,
   "id": "8c0abaff-f8e6-43d0-94b6-eea3268ac0d4",
   "metadata": {},
   "outputs": [
    {
     "name": "stdout",
     "output_type": "stream",
     "text": [
      "완료: 겹침 방지, 페이드 처리 및 accompaniment 생성 완료. 파일 위치: splited_notes\n"
     ]
    }
   ],
   "source": [
    "# --- 6) 수정된 osu 파일 작성 ---\n",
    "header = osu_text[:events_match.start()]\n",
    "between = osu_text[events_match.end():hit_match.start()]\n",
    "footer = osu_text[hit_match.end():]\n",
    "with open(osu_output, 'w', encoding='utf-8') as f:\n",
    "    f.write(header)\n",
    "    f.write(\"[Events]\\n\")\n",
    "    for ev in new_events:\n",
    "        f.write(ev + \"\\n\")\n",
    "    f.write(\"\\n\" + between)\n",
    "    f.write(\"[HitObjects]\\n\")\n",
    "    for hl in new_hit_lines:\n",
    "        f.write(hl + \"\\n\")\n",
    "    f.write(footer)\n",
    "\n",
    "print(f\"완료: 겹침 방지, 페이드 처리 및 accompaniment 생성 완료. 파일 위치: {output_dir}\")\n"
   ]
  },
  {
   "cell_type": "code",
   "execution_count": null,
   "id": "421dc884-07e6-445b-97ee-f5c929feb238",
   "metadata": {},
   "outputs": [],
   "source": []
  },
  {
   "cell_type": "code",
   "execution_count": null,
   "id": "10d46acb-5735-4470-a976-af8743caebd4",
   "metadata": {},
   "outputs": [],
   "source": []
  },
  {
   "cell_type": "code",
   "execution_count": null,
   "id": "2c3f206d-023d-4cbc-a2bd-6842bf4dd3df",
   "metadata": {},
   "outputs": [],
   "source": []
  }
 ],
 "metadata": {
  "kernelspec": {
   "display_name": "Python 3 (ipykernel)",
   "language": "python",
   "name": "python3"
  },
  "language_info": {
   "codemirror_mode": {
    "name": "ipython",
    "version": 3
   },
   "file_extension": ".py",
   "mimetype": "text/x-python",
   "name": "python",
   "nbconvert_exporter": "python",
   "pygments_lexer": "ipython3",
   "version": "3.12.3"
  }
 },
 "nbformat": 4,
 "nbformat_minor": 5
}
