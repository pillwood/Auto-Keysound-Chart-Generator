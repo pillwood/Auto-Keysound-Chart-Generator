{
 "cells": [
  {
   "cell_type": "code",
   "execution_count": 15,
   "id": "10d46acb-5735-4470-a976-af8743caebd4",
   "metadata": {},
   "outputs": [],
   "source": [
    "import os\n",
    "import re\n",
    "import librosa\n",
    "import soundfile as sf\n",
    "import numpy as np\n",
    "from tqdm import tqdm\n",
    "from scipy.stats import mode\n",
    "from scipy.ndimage import median_filter\n",
    "from functools import partial"
   ]
  },
  {
   "cell_type": "code",
   "execution_count": 16,
   "id": "2c3f206d-023d-4cbc-a2bd-6842bf4dd3df",
   "metadata": {},
   "outputs": [],
   "source": [
    "# --- 설정 ---\n",
    "wav_paths = [\n",
    "    \"unwelcomeSchool/vocals.wav\",\n",
    "    \"unwelcomeSchool/bass.wav\",\n",
    "    \"unwelcomeSchool/drums.wav\",\n",
    "    \"unwelcomeSchool/other.wav\"\n",
    "]\n",
    "\n",
    "# 우선순위 설정\n",
    "preferred_order = [3, 2, 1, 0]\n",
    "# 전체 에너지값 중 5%미만일 시 자르기 위함.\n",
    "energy_threshold_ratio = 0.05\n",
    "\n",
    "osu_input = \"UnwelcomeSchool_Hard.txt\"\n",
    "base_name = os.path.splitext(os.path.basename(osu_input))[0]\n",
    "\n",
    "# 트랙 증폭\n",
    "amplify_indices = [3]\n",
    "amplify_factor = 1.5\n",
    "default_clip_ms = 333\n",
    "# 앞 뒤, FadeIn, Out\n",
    "fade_ms = 50"
   ]
  },
  {
   "cell_type": "code",
   "execution_count": 17,
   "id": "9b7f5d63-2f5b-45af-a159-3731b8b2f069",
   "metadata": {},
   "outputs": [],
   "source": [
    "# --- WAV 로드 ---\n",
    "waves, sr = [], None\n",
    "for idx, p in enumerate(wav_paths):\n",
    "    y, sr_tmp = librosa.load(p, sr=None)\n",
    "    if sr is None:\n",
    "        sr = sr_tmp\n",
    "    elif sr != sr_tmp:\n",
    "        raise ValueError(\"샘플링 레이트 불일치\")\n",
    "    if idx in amplify_indices:\n",
    "        y = np.clip(y * amplify_factor, -1.0, 1.0)\n",
    "    waves.append(y)"
   ]
  },
  {
   "cell_type": "code",
   "execution_count": 18,
   "id": "06a65675-2eaa-4db7-8337-e49878793eee",
   "metadata": {},
   "outputs": [],
   "source": [
    "# --- osu 파일 파싱 ---\n",
    "with open(osu_input, 'r', encoding='utf-8') as f:\n",
    "    osu_text = f.read()\n",
    "\n",
    "hit_match = re.search(r\"\\[HitObjects\\](.*)$\", osu_text, re.S)\n",
    "if not hit_match:\n",
    "    raise ValueError(\"[HitObjects] 섹션을 찾을 수 없습니다.\")\n",
    "hit_lines = [l for l in hit_match.group(1).strip().splitlines() if l.strip()]\n",
    "times_ms = [int(line.split(',')[2]) for line in hit_lines]\n",
    "\n",
    "events_match = re.search(r\"\\[Events\\](.*?)(?=\\n\\[|$)\", osu_text, re.S)"
   ]
  },
  {
   "cell_type": "code",
   "execution_count": 19,
   "id": "f3428d61-710d-460c-aa9a-8c144974c776",
   "metadata": {},
   "outputs": [],
   "source": [
    "\"\"\"\n",
    "기존 에너지만 고려한 방식\n",
    "\"\"\"\n",
    "def smooth_none(indices):\n",
    "    return indices\n",
    "\n",
    "\"\"\"\n",
    "mode 필터 사용 Window-based Majority Voting\n",
    "Window 만들어서 가장 많이 나오는 값 선택.\n",
    "\"\"\"\n",
    "def smooth_mode(indices, window=5):\n",
    "    pad = window // 2\n",
    "    padded = np.pad(indices, (pad, pad), mode='edge')\n",
    "    return [int(mode(padded[i:i+window], keepdims=False).mode) for i in range(len(indices))]\n",
    "\n",
    "\"\"\"\n",
    "Median filter 사용해서 OutLier 제거.\n",
    "\"\"\"\n",
    "def smooth_median(indices, size=5):\n",
    "    return median_filter(indices, size=size).tolist()\n",
    "\n",
    "\"\"\"\n",
    "우선순위 정해서 해당 부분에 대해 입계값보다 높으면 순서대로 노트에 할당\n",
    "\"\"\"\n",
    "def smooth_priority(dominant_indices, *, times_ms, sr, waves, preferred_order, threshold=0.3):\n",
    "    time_to_indices = {}\n",
    "    for i, t in enumerate(times_ms):\n",
    "        time_to_indices.setdefault(t, []).append(i)\n",
    "\n",
    "    dominant_by_index = [None] * len(times_ms)\n",
    "\n",
    "    for t, indices in time_to_indices.items():\n",
    "        start = int(sr * t / 1000)\n",
    "        end = start + int(sr * default_clip_ms / 1000)\n",
    "        end = min(end, len(waves[0]))\n",
    "        energies = [np.sum(w[start:end] ** 2) for w in waves]\n",
    "        total_energy = sum(energies)\n",
    "\n",
    "        if len(indices) > 1:\n",
    "            sorted_idx = sorted(range(len(energies)), key=lambda x: -energies[x])\n",
    "            for j, i in enumerate(indices):\n",
    "                dominant_by_index[i] = sorted_idx[j % len(waves)]\n",
    "        else:\n",
    "            chosen = None\n",
    "            for p in preferred_order:\n",
    "                if energies[p] >= threshold * total_energy:\n",
    "                    chosen = p\n",
    "                    break\n",
    "            if chosen is None:\n",
    "                chosen = int(np.argmax(energies))\n",
    "            dominant_by_index[indices[0]] = chosen\n",
    "\n",
    "    return dominant_by_index\n"
   ]
  },
  {
   "cell_type": "code",
   "execution_count": 20,
   "id": "676c8d53-cbde-40a1-bd73-7db590efa251",
   "metadata": {},
   "outputs": [],
   "source": [
    "smoothing_methods = {\n",
    "    \"base\": smooth_none,\n",
    "    \"mode\": smooth_mode,\n",
    "    \"median\": smooth_median,\n",
    "    \"priority\": partial(\n",
    "        smooth_priority,\n",
    "        times_ms=times_ms,\n",
    "        sr=sr,\n",
    "        waves=waves,\n",
    "        preferred_order=preferred_order,\n",
    "        threshold=energy_threshold_ratio\n",
    "    )\n",
    "}"
   ]
  },
  {
   "cell_type": "code",
   "execution_count": 21,
   "id": "8175c3eb-6cd0-4f98-98df-380b4a07406c",
   "metadata": {},
   "outputs": [],
   "source": [
    "# --- base dominant index 계산 ---\n",
    "base_dominant_indices = []\n",
    "for i, time_ms in enumerate(times_ms):\n",
    "    start = int(sr * time_ms / 1000)\n",
    "    if i < len(times_ms) - 1:\n",
    "        next_ms = times_ms[i+1]\n",
    "        clip_ms = min(default_clip_ms, next_ms - time_ms)\n",
    "    else:\n",
    "        clip_ms = default_clip_ms\n",
    "    end = min(start + int(sr * clip_ms / 1000), len(waves[0]))\n",
    "    energies = [np.sum(w[start:end]**2) for w in waves]\n",
    "    idx = int(np.argmax(energies))\n",
    "    base_dominant_indices.append(idx)"
   ]
  },
  {
   "cell_type": "code",
   "execution_count": 22,
   "id": "73430363-a201-45a2-b0d9-b292effdcdcf",
   "metadata": {},
   "outputs": [],
   "source": [
    "# --- 노트 추출 함수 ---\n",
    "def extract_clips(strategy_name, dominant_indices):\n",
    "    print(f\"\\n▶ 추출 중: {strategy_name} 방식\")\n",
    "    output_dir = f\"splited_notes_{strategy_name}\"\n",
    "    os.makedirs(output_dir, exist_ok=True)\n",
    "    osu_output = f\"{base_name}_{strategy_name}.osu\"\n",
    "\n",
    "    fade_len = int(sr * fade_ms / 1000)\n",
    "    ramp = np.linspace(0, 1, fade_len)\n",
    "\n",
    "    silent_tracks = [w.copy() for w in waves]\n",
    "    new_events, new_hit_lines = [], []\n",
    "    counter = 1\n",
    "\n",
    "    for i, line in tqdm(enumerate(hit_lines), total=len(hit_lines), desc=f\"Extracting ({strategy_name})\"):\n",
    "        parts = line.split(',')\n",
    "        time_ms = times_ms[i]\n",
    "        if i < len(times_ms) - 1:\n",
    "            next_ms = times_ms[i+1]\n",
    "            clip_ms = min(default_clip_ms, next_ms - time_ms)\n",
    "        else:\n",
    "            clip_ms = default_clip_ms\n",
    "        clip_len = int(sr * clip_ms / 1000)\n",
    "\n",
    "        idx = dominant_indices[i]\n",
    "        start = int(sr * time_ms / 1000)\n",
    "        end = min(start + clip_len, len(waves[0]))\n",
    "\n",
    "        clip = waves[idx][start:end].copy()\n",
    "        if len(clip) > 2 * fade_len:\n",
    "            clip[:fade_len] *= ramp\n",
    "            clip[-fade_len:] *= ramp[::-1]\n",
    "        else:\n",
    "            clip *= np.linspace(0, 1, len(clip))\n",
    "\n",
    "        silent_tracks[idx][start:end] = 0\n",
    "\n",
    "        clip_name = f\"note_{idx+1}_{counter}.wav\"\n",
    "        sf.write(os.path.join(output_dir, clip_name), clip, sr)\n",
    "\n",
    "        tail = parts[-1]\n",
    "        effects, _ = (tail.rsplit(':', 1) if ':' in tail else (tail, ''))\n",
    "        parts[-1] = f\"{effects}:{clip_name}\"\n",
    "        new_hit_lines.append(','.join(parts))\n",
    "        new_events.append(f\"Sample,{time_ms},0,\\\"{clip_name}\\\",50\")\n",
    "        counter += 1\n",
    "\n",
    "    # accompaniment 저장\n",
    "    accompaniment = np.zeros_like(waves[0])\n",
    "    for tr in silent_tracks:\n",
    "        accompaniment += tr\n",
    "    sf.write(os.path.join(output_dir, \"audio.wav\"), accompaniment, sr)\n",
    "\n",
    "    # osu 파일 저장\n",
    "    header = osu_text[:events_match.start()]\n",
    "    between = osu_text[events_match.end():hit_match.start()]\n",
    "    footer = osu_text[hit_match.end():]\n",
    "    with open(osu_output, 'w', encoding='utf-8') as f:\n",
    "        f.write(header)\n",
    "        f.write(\"[Events]\\n\")\n",
    "        for ev in new_events:\n",
    "            f.write(ev + \"\\n\")\n",
    "        f.write(\"\\n\" + between)\n",
    "        f.write(\"[HitObjects]\\n\")\n",
    "        for hl in new_hit_lines:\n",
    "            f.write(hl + \"\\n\")\n",
    "        f.write(footer)\n",
    "\n",
    "    print(f\"{strategy_name} 완료 - 파일 위치: {output_dir}, {osu_output}\")"
   ]
  },
  {
   "cell_type": "code",
   "execution_count": 23,
   "id": "863b8f90-90af-4feb-8b50-5cd1e5400b7a",
   "metadata": {},
   "outputs": [
    {
     "name": "stdout",
     "output_type": "stream",
     "text": [
      "\n",
      "▶ 추출 중: base 방식\n"
     ]
    },
    {
     "name": "stderr",
     "output_type": "stream",
     "text": [
      "Extracting (base): 100%|██████████████████████████████████████████████████████████| 1338/1338 [00:04<00:00, 321.99it/s]\n"
     ]
    },
    {
     "name": "stdout",
     "output_type": "stream",
     "text": [
      "base 완료 - 파일 위치: splited_notes_base, UnwelcomeSchool_Hard_base.osu\n",
      "\n",
      "▶ 추출 중: mode 방식\n"
     ]
    },
    {
     "name": "stderr",
     "output_type": "stream",
     "text": [
      "Extracting (mode): 100%|██████████████████████████████████████████████████████████| 1338/1338 [00:04<00:00, 331.82it/s]\n"
     ]
    },
    {
     "name": "stdout",
     "output_type": "stream",
     "text": [
      "mode 완료 - 파일 위치: splited_notes_mode, UnwelcomeSchool_Hard_mode.osu\n",
      "\n",
      "▶ 추출 중: median 방식\n"
     ]
    },
    {
     "name": "stderr",
     "output_type": "stream",
     "text": [
      "Extracting (median): 100%|████████████████████████████████████████████████████████| 1338/1338 [00:04<00:00, 332.33it/s]\n"
     ]
    },
    {
     "name": "stdout",
     "output_type": "stream",
     "text": [
      "median 완료 - 파일 위치: splited_notes_median, UnwelcomeSchool_Hard_median.osu\n",
      "\n",
      "▶ 추출 중: priority 방식\n"
     ]
    },
    {
     "name": "stderr",
     "output_type": "stream",
     "text": [
      "Extracting (priority): 100%|██████████████████████████████████████████████████████| 1338/1338 [00:05<00:00, 224.19it/s]\n"
     ]
    },
    {
     "name": "stdout",
     "output_type": "stream",
     "text": [
      "priority 완료 - 파일 위치: splited_notes_priority, UnwelcomeSchool_Hard_priority.osu\n"
     ]
    }
   ],
   "source": [
    "# --- smoothing 방식 적용 및 노트 추출 ---\n",
    "for name, func in smoothing_methods.items():\n",
    "    smoothed_indices = func(base_dominant_indices)\n",
    "    extract_clips(name, smoothed_indices)"
   ]
  },
  {
   "cell_type": "code",
   "execution_count": null,
   "id": "c678deac-346f-4cad-8dd2-1803972cf3e8",
   "metadata": {},
   "outputs": [],
   "source": []
  },
  {
   "cell_type": "code",
   "execution_count": null,
   "id": "a09f9041-b87d-4e71-b1ed-fd268d8cfdfd",
   "metadata": {},
   "outputs": [],
   "source": []
  },
  {
   "cell_type": "code",
   "execution_count": null,
   "id": "38674c92-4eea-437d-b6d9-87717f91a29d",
   "metadata": {},
   "outputs": [],
   "source": []
  }
 ],
 "metadata": {
  "kernelspec": {
   "display_name": "Python 3 (ipykernel)",
   "language": "python",
   "name": "python3"
  },
  "language_info": {
   "codemirror_mode": {
    "name": "ipython",
    "version": 3
   },
   "file_extension": ".py",
   "mimetype": "text/x-python",
   "name": "python",
   "nbconvert_exporter": "python",
   "pygments_lexer": "ipython3",
   "version": "3.12.3"
  }
 },
 "nbformat": 4,
 "nbformat_minor": 5
}
